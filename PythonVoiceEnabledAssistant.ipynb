{
 "cells": [
  {
   "cell_type": "code",
   "execution_count": 12,
   "id": "bfcc10fa",
   "metadata": {},
   "outputs": [
    {
     "name": "stdout",
     "output_type": "stream",
     "text": [
      "Requirement already satisfied: speechRecognition in c:\\programdata\\anaconda3\\lib\\site-packages (3.10.0)\n",
      "Requirement already satisfied: requests>=2.26.0 in c:\\programdata\\anaconda3\\lib\\site-packages (from speechRecognition) (2.26.0)\n",
      "Requirement already satisfied: urllib3<1.27,>=1.21.1 in c:\\programdata\\anaconda3\\lib\\site-packages (from requests>=2.26.0->speechRecognition) (1.26.7)\n",
      "Requirement already satisfied: charset-normalizer~=2.0.0 in c:\\programdata\\anaconda3\\lib\\site-packages (from requests>=2.26.0->speechRecognition) (2.0.4)\n",
      "Requirement already satisfied: idna<4,>=2.5 in c:\\programdata\\anaconda3\\lib\\site-packages (from requests>=2.26.0->speechRecognition) (3.2)\n",
      "Requirement already satisfied: certifi>=2017.4.17 in c:\\programdata\\anaconda3\\lib\\site-packages (from requests>=2.26.0->speechRecognition) (2021.10.8)\n"
     ]
    },
    {
     "name": "stderr",
     "output_type": "stream",
     "text": [
      "\n",
      "[notice] A new release of pip is available: 23.0.1 -> 23.2.1\n",
      "[notice] To update, run: python.exe -m pip install --upgrade pip\n"
     ]
    },
    {
     "name": "stdout",
     "output_type": "stream",
     "text": [
      "Requirement already satisfied: pyttsx3 in c:\\programdata\\anaconda3\\lib\\site-packages (2.90)\n",
      "Requirement already satisfied: comtypes in c:\\programdata\\anaconda3\\lib\\site-packages (from pyttsx3) (1.1.10)\n",
      "Requirement already satisfied: pywin32 in c:\\programdata\\anaconda3\\lib\\site-packages (from pyttsx3) (228)\n",
      "Requirement already satisfied: pypiwin32 in c:\\programdata\\anaconda3\\lib\\site-packages (from pyttsx3) (223)\n"
     ]
    },
    {
     "name": "stderr",
     "output_type": "stream",
     "text": [
      "\n",
      "[notice] A new release of pip is available: 23.0.1 -> 23.2.1\n",
      "[notice] To update, run: python.exe -m pip install --upgrade pip\n"
     ]
    },
    {
     "name": "stdout",
     "output_type": "stream",
     "text": [
      "Requirement already satisfied: pyautogui in c:\\programdata\\anaconda3\\lib\\site-packages (0.9.54)\n",
      "Requirement already satisfied: mouseinfo in c:\\programdata\\anaconda3\\lib\\site-packages (from pyautogui) (0.1.3)\n",
      "Requirement already satisfied: pygetwindow>=0.0.5 in c:\\programdata\\anaconda3\\lib\\site-packages (from pyautogui) (0.0.9)\n",
      "Requirement already satisfied: pyscreeze>=0.1.21 in c:\\programdata\\anaconda3\\lib\\site-packages (from pyautogui) (0.1.29)\n",
      "Requirement already satisfied: pytweening>=1.0.4 in c:\\programdata\\anaconda3\\lib\\site-packages (from pyautogui) (1.0.7)\n",
      "Requirement already satisfied: pymsgbox in c:\\programdata\\anaconda3\\lib\\site-packages (from pyautogui) (1.0.9)\n",
      "Requirement already satisfied: pyrect in c:\\programdata\\anaconda3\\lib\\site-packages (from pygetwindow>=0.0.5->pyautogui) (0.2.0)\n",
      "Requirement already satisfied: pyscreenshot in c:\\programdata\\anaconda3\\lib\\site-packages (from pyscreeze>=0.1.21->pyautogui) (3.1)\n",
      "Requirement already satisfied: Pillow>=9.2.0 in c:\\programdata\\anaconda3\\lib\\site-packages (from pyscreeze>=0.1.21->pyautogui) (10.0.0)\n",
      "Requirement already satisfied: pyperclip in c:\\programdata\\anaconda3\\lib\\site-packages (from mouseinfo->pyautogui) (1.8.2)\n",
      "Requirement already satisfied: EasyProcess in c:\\programdata\\anaconda3\\lib\\site-packages (from pyscreenshot->pyscreeze>=0.1.21->pyautogui) (1.1)\n",
      "Requirement already satisfied: entrypoint2 in c:\\programdata\\anaconda3\\lib\\site-packages (from pyscreenshot->pyscreeze>=0.1.21->pyautogui) (1.1)\n",
      "Requirement already satisfied: mss in c:\\programdata\\anaconda3\\lib\\site-packages (from pyscreenshot->pyscreeze>=0.1.21->pyautogui) (9.0.1)\n"
     ]
    },
    {
     "name": "stderr",
     "output_type": "stream",
     "text": [
      "\n",
      "[notice] A new release of pip is available: 23.0.1 -> 23.2.1\n",
      "[notice] To update, run: python.exe -m pip install --upgrade pip\n"
     ]
    },
    {
     "name": "stdout",
     "output_type": "stream",
     "text": [
      "Collecting pyaudio"
     ]
    },
    {
     "name": "stderr",
     "output_type": "stream",
     "text": [
      "\n",
      "[notice] A new release of pip is available: 23.0.1 -> 23.2.1\n",
      "[notice] To update, run: python.exe -m pip install --upgrade pip\n"
     ]
    },
    {
     "name": "stdout",
     "output_type": "stream",
     "text": [
      "\n",
      "  Downloading PyAudio-0.2.13-cp39-cp39-win_amd64.whl (164 kB)\n",
      "     ------------------------------------ 164.1/164.1 kB 352.0 kB/s eta 0:00:00\n",
      "Installing collected packages: pyaudio\n",
      "Successfully installed pyaudio-0.2.13\n"
     ]
    }
   ],
   "source": [
    "!pip install speechRecognition\n",
    "!pip install pyttsx3\n",
    "!pip3 install pyautogui\n",
    "!pip3 install pyaudio\n",
    "# !pip install --upgrade pip"
   ]
  },
  {
   "cell_type": "code",
   "execution_count": null,
   "id": "2ab05477",
   "metadata": {},
   "outputs": [
    {
     "name": "stdout",
     "output_type": "stream",
     "text": [
      "Listening...\n"
     ]
    }
   ],
   "source": [
    "import speech_recognition as sr\n",
    "import pyttsx3\n",
    "import webbrowser\n",
    "import time\n",
    "import pyautogui\n",
    "\n",
    "def speak(text):\n",
    "    engine = pyttsx3.init()\n",
    "    engine.say(text)\n",
    "    engine.runAndWait()\n",
    "\n",
    "def recognize_speech():\n",
    "    recognizer = sr.Recognizer()\n",
    "\n",
    "    with sr.Microphone() as source:\n",
    "        print(\"Listening...\")\n",
    "        audio = recognizer.listen(source)\n",
    "\n",
    "    try:\n",
    "        print(\"Recognizing...\")\n",
    "        text = recognizer.recognize_google(audio)\n",
    "        print(\"You said:\", text)\n",
    "        return text.lower()\n",
    "    except sr.UnknownValueError:\n",
    "        print(\"Sorry, could not understand audio.\")\n",
    "    except sr.RequestError as e:\n",
    "        print(f\"Error with the speech recognition service; {e}\")\n",
    "\n",
    "    return None\n",
    "\n",
    "def open_whatsapp():\n",
    "    speak(\"Opening WhatsApp.\")\n",
    "    webbrowser.open(\"https://web.whatsapp.com\")\n",
    "    time.sleep(15)  # Wait for 15 seconds to give you time to scan the QR code\n",
    "    speak(\"WhatsApp is now open. You can use it on your browser.\")\n",
    "\n",
    "if __name__ == \"__main__\":\n",
    "    while True:\n",
    "        recognized_text = recognize_speech()\n",
    "        if recognized_text:\n",
    "            if \"google\" in recognized_text:\n",
    "                speak(\"Opening Google.\")\n",
    "                webbrowser.open(\"https://www.google.com\")\n",
    "            elif \"youtube\" in recognized_text:\n",
    "                speak(\"Opening YouTube.\")\n",
    "                webbrowser.open(\"https://www.youtube.com\")\n",
    "                # Wait for a moment before searching for music\n",
    "                speak(\"What music would you like to listen to?\")\n",
    "                time.sleep(3)  # Wait for 3 seconds to give you time to respond\n",
    "                music_name = recognize_speech()\n",
    "                if music_name:\n",
    "                    url = f\"https://www.youtube.com/results?search_query={music_name}\"\n",
    "                    webbrowser.open(url)\n",
    "                    time.sleep(5)  # Wait for the search results page to load\n",
    "                    # Click on the first video link\n",
    "                    try:\n",
    "                        pyautogui.click(x=800, y=380)  # Adjust the coordinates as per your screen resolution\n",
    "                    except pyautogui.FailSafeException:\n",
    "                        print(\"Failed to click the video link. Please click it manually.\")\n",
    "                        \n",
    "            elif \"python\" in recognized_text and \"code\" in recognized_text:\n",
    "                speak(\"Opening Chrome and searching vimal daga.\")\n",
    "                webbrowser.open(\"https://www.google.com/search?q=vimal+daga\")  # Changed the search query\n",
    "            elif \"vimal daga\" in recognized_text:  # Added a new condition to directly search for \"vimal daga\"\n",
    "                speak(\"Searching vimal daga on Google.\")\n",
    "                webbrowser.open(\"https://www.google.com/search?q=vimal+daga\")\n",
    "            elif \"whatsapp\" in recognized_text:\n",
    "                open_whatsapp()\n",
    "            elif \"exit\" in recognized_text or \"stop\" in recognized_text:\n",
    "                speak(\"Goodbye!\")\n",
    "                break"
   ]
  },
  {
   "cell_type": "code",
   "execution_count": null,
   "id": "96828e3c",
   "metadata": {},
   "outputs": [],
   "source": []
  }
 ],
 "metadata": {
  "kernelspec": {
   "display_name": "Python 3 (ipykernel)",
   "language": "python",
   "name": "python3"
  },
  "language_info": {
   "codemirror_mode": {
    "name": "ipython",
    "version": 3
   },
   "file_extension": ".py",
   "mimetype": "text/x-python",
   "name": "python",
   "nbconvert_exporter": "python",
   "pygments_lexer": "ipython3",
   "version": "3.9.7"
  }
 },
 "nbformat": 4,
 "nbformat_minor": 5
}
